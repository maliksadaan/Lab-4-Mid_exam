{
  "nbformat": 4,
  "nbformat_minor": 0,
  "metadata": {
    "colab": {
      "provenance": []
    },
    "kernelspec": {
      "name": "python3",
      "display_name": "Python 3"
    },
    "language_info": {
      "name": "python"
    }
  },
  "cells": [
    {
      "cell_type": "markdown",
      "source": [
        "**Activity 1**. Consider a toy problem that can be represented as a following graph. How would you represent this graph in python?"
      ],
      "metadata": {
        "id": "pGg0K_IpHhCM"
      }
    },
    {
      "cell_type": "code",
      "source": [
        "class node:\n",
        "  def __init__(self,state,parent,actions,totalcost):\n",
        "    self.state = state\n",
        "    self.parent = parent\n",
        "    self.actions = actions\n",
        "    self.totalcost = totalcost\n",
        "    \n",
        "graph = {'A': node('A',None,['B','C','E'],None),\n",
        "           'B': node('B',None,['A','D','E'],None),\n",
        "           'C': node('C',None,['A','F','G'],None),\n",
        "           'D': node('D',None,['B','E'],None),\n",
        "           'E': node('E',None,['A','B','D'],None),\n",
        "           'F': node('F',None,['C'],None),\n",
        "           'G': node('G',None,['C'],None)\n",
        "          }\n"
      ],
      "metadata": {
        "id": "rdhia1PRHqJB"
      },
      "execution_count": 2,
      "outputs": []
    },
    {
      "cell_type": "markdown",
      "source": [
        "Activity 2 \n",
        " For the graph in previous activity, imagine node A as starting node and your goal is to reach F. Keeping depth first search in mind, describe a sequence of actions that you must take to reach that goal state."
      ],
      "metadata": {
        "id": "6ayCf07HJRzn"
      }
    },
    {
      "cell_type": "code",
      "source": [
        "class node:\n",
        "  def __init__(self,state,parent,actions,totalcost):\n",
        "    self.state = state\n",
        "    self.parent = parent\n",
        "    self.actions = actions\n",
        "    self.totalcost = totalcost\n",
        "\n",
        "def actionSequence(graph,initialstate,goalstate):\n",
        "  solution = [goalstate]\n",
        "  currentparent = graph[goalstate].parent\n",
        "  \n",
        "  while currentparent != None:\n",
        "    \n",
        "    solution.append(currentparent)\n",
        "    currentparent = graph[currentparent].parent\n",
        "\n",
        "  solution.reverse()\n",
        "  return solution\n",
        "\n",
        "def dfs(initialstate,goalstate):\n",
        "  \n",
        "  graph = {'A': node('A',None,['B','C','E'],None),\n",
        "           'B': node('B',None,['A','D','E'],None),\n",
        "           'C': node('C',None,['A','F','G'],None),\n",
        "           'D': node('D',None,['B','E'],None),\n",
        "           'E': node('E',None,['A','B','D'],None),\n",
        "           'F': node('F',None,['C'],None),\n",
        "           'G': node('G',None,['C'],None)\n",
        "          }\n",
        "  frontier = [initialstate]\n",
        "  explored = []\n",
        "  currentChildren = 0\n",
        "  while frontier:\n",
        "    currentnode = frontier.pop(len(frontier)-1)\n",
        "    explored.append(currentnode)\n",
        "    for child in graph[currentnode].actions:\n",
        "      if child not in frontier and child not in explored:\n",
        "        graph[child].parent = currentnode\n",
        "        if graph[child].state == goalstate:\n",
        "          # print(explored)\n",
        "          return actionSequence(graph,initialstate,goalstate)\n",
        "        currentChildren=currentChildren+1\n",
        "        frontier.append(child)\n",
        "  if currentChildren == 0 :\n",
        "    del explored[len(explored)-1]\n",
        "solution = dfs('A','D')\n",
        "print(solution)\n",
        "\n",
        "  "
      ],
      "metadata": {
        "colab": {
          "base_uri": "https://localhost:8080/"
        },
        "id": "WhfOTUFSJSFk",
        "outputId": "1b00d213-f06b-4f66-e844-928414829a34"
      },
      "execution_count": 3,
      "outputs": [
        {
          "output_type": "stream",
          "name": "stdout",
          "text": [
            "['A', 'E', 'D']\n"
          ]
        }
      ]
    },
    {
      "cell_type": "markdown",
      "source": [
        "**Activity 3**\n",
        "Change initial state to D and set goal state as C. What will be resulting path of BFS search? What will be the sequence of nodes explored?"
      ],
      "metadata": {
        "id": "P7rNBkFhJSfL"
      }
    },
    {
      "cell_type": "code",
      "source": [
        "class node:\n",
        "  def __init__(self,state,parent,actions,totalcost):\n",
        "    self.state = state\n",
        "    self.parent = parent\n",
        "    self.actions = actions\n",
        "    self.totalcost = totalcost\n",
        "\n",
        "def actionSequence(graph,initialstate,goalstate):\n",
        "  solution = [goalstate]``\n",
        "  currentparent = graph[goalstate].parent\n",
        "  \n",
        "  while currentparent != None:\n",
        "    \n",
        "    solution.append(currentparent)\n",
        "    currentparent = graph[currentparent].parent\n",
        "\n",
        "  solution.reverse()\n",
        "  return solution\n",
        "\n",
        "def bfs(initialstate,goalstate):\n",
        "  \n",
        "  graph = {'A': node('A',None,['B','C','E'],None),\n",
        "           'B': node('B',None,['A','D','E'],None),\n",
        "           'C': node('C',None,['A','F','G'],None),\n",
        "           'D': node('D',None,['B','E'],None),\n",
        "           'E': node('E',None,['A','B','D'],None),\n",
        "           'F': node('F',None,['C'],None),\n",
        "           'G': node('G',None,['C'],None)\n",
        "          }\n",
        "  frontier = [initialstate]\n",
        "  explored = []\n",
        "  while frontier:\n",
        "    currentnode = frontier.pop(0)\n",
        "    explored.append(currentnode)\n",
        "    for child in graph[currentnode].actions:\n",
        "      if child not in frontier and child not in explored:\n",
        "        graph[child].parent = currentnode\n",
        "        if graph[child].state == goalstate:\n",
        "          return actionSequence(graph,initialstate,goalstate)\n",
        "        frontier.append(child)\n",
        "solution = bfs('D','C')\n",
        "print(solution)\n",
        "\n",
        "\n",
        "  "
      ],
      "metadata": {
        "colab": {
          "base_uri": "https://localhost:8080/"
        },
        "id": "5BZeBSsjJS2T",
        "outputId": "9eabe4e6-483b-41a2-c35e-d23ef474dc9c"
      },
      "execution_count": 4,
      "outputs": [
        {
          "output_type": "stream",
          "name": "stdout",
          "text": [
            "['D', 'B', 'A', 'C']\n"
          ]
        }
      ]
    },
    {
      "cell_type": "markdown",
      "source": [
        "**Activity 4**\n",
        "magine the same tree but this time we also mention the cost of each edge.\n",
        "\n"
      ],
      "metadata": {
        "id": "eiP5uPu8QsU1"
      }
    },
    {
      "cell_type": "code",
      "source": [
        "import math\n",
        "\n",
        "def findmin(frontier):\n",
        "    minV = math.inf\n",
        "    node = ''\n",
        "    for i in frontier:\n",
        "        if minV > frontier[i][1]:\n",
        "            minV = frontier[i][1]\n",
        "            node = i\n",
        "    return node\n",
        "\n",
        "def actionSequence(graph, initialstate, goalstate):\n",
        "    solution = [goalstate]\n",
        "    currentparent = graph[goalstate].parent\n",
        "    while currentparent is not None:\n",
        "        solution.append(currentparent)\n",
        "        currentparent = graph[currentparent].parent\n",
        "    solution.reverse()\n",
        "    return solution\n",
        "\n",
        "class node:\n",
        "    def __init__(self, state, parent, actions, totalcost):\n",
        "        self.state = state\n",
        "        self.parent = parent\n",
        "        self.actions = actions\n",
        "        self.totalcost = totalcost\n",
        "\n",
        "def UCS(initialstate, goalstate):\n",
        "    graph = {\n",
        "        'A': node('A', None, [('B', 6), ('C', 9), ('E', 1)], 0),\n",
        "        'B': node('B', None, [('A', 6), ('D', 3), ('E', 4)], 0),\n",
        "        'C': node('C', None, [('A', 9), ('F', 2), ('G', 3)], 0),\n",
        "        'D': node('D', None, [('B', 3), ('E', 5), ('F', 7)], 0),\n",
        "        'E': node('E', None, [('A', 1), ('B', 4), ('D', 5), ('F', 6)], 0),\n",
        "        'F': node('F', None, [('C', 2), ('E', 6), ('D', 7)], 0),\n",
        "        'G': node('G', None, [('C', 3)], 0)\n",
        "    }\n",
        "    frontier = dict()\n",
        "    frontier[initialstate] = (None, 0)\n",
        "    explored = []\n",
        "\n",
        "    while frontier:\n",
        "        currentnode = findmin(frontier)\n",
        "        del frontier[currentnode]\n",
        "        if graph[currentnode].state == goalstate:\n",
        "            return actionSequence(graph, initialstate, goalstate)\n",
        "        explored.append(currentnode)\n",
        "        for child in graph[currentnode].actions:\n",
        "            currentcost = child[1] + graph[currentnode].totalcost\n",
        "            if child[0] not in frontier and child[0] not in explored:\n",
        "                graph[child[0]].parent = currentnode\n",
        "                graph[child[0]].totalcost = currentcost\n",
        "                frontier[child[0]] = (graph[child[0]].parent, graph[child[0]].totalcost)\n",
        "            elif child[0] in frontier:\n",
        "                if frontier[child[0]][1] > currentcost:\n",
        "                    graph[child[0]].parent = currentnode\n",
        "                    graph[child[0]].totalcost = currentcost\n",
        "                    frontier[child[0]] = (graph[child[0]].parent, graph[child[0]].totalcost)\n",
        "\n",
        "solution = UCS('C', 'B')\n",
        "print(solution)"
      ],
      "metadata": {
        "colab": {
          "base_uri": "https://localhost:8080/"
        },
        "id": "CVkkVcOnQ0Fc",
        "outputId": "a1aa2583-1766-42e9-bc20-aacd0e739d54"
      },
      "execution_count": 12,
      "outputs": [
        {
          "output_type": "stream",
          "name": "stdout",
          "text": [
            "['C', 'F', 'E', 'B']\n"
          ]
        }
      ]
    },
    {
      "cell_type": "markdown",
      "source": [
        "**Activity 5**\n",
        "Home Task"
      ],
      "metadata": {
        "id": "5fVVhQLZQ022"
      }
    },
    {
      "cell_type": "code",
      "source": [
        "import heapq\n",
        "\n",
        "# Define the graph as a dictionary\n",
        "graph = {\n",
        "    'Arad': [('Zerind', 75), ('Timisoara', 118), ('Sibiu', 140)],\n",
        "    'Zerind': [('Oradea', 71), ('Arad', 75)],\n",
        "    'Oradea': [('Sibiu', 151), ('Zerind', 71)],\n",
        "    'Timisoara': [('Arad', 118), ('Lugoj', 111)],\n",
        "    'Lugoj': [('Timisoara', 111), ('Mehadia', 70)],\n",
        "    'Mehadia': [('Lugoj', 70), ('Drobeta', 75)],\n",
        "    'Drobeta': [('Mehadia', 75), ('Craiova', 120)],\n",
        "    'Sibiu': [('Arad', 140), ('Oradea', 151), ('Fagaras', 99), ('Rimnicu Vilcea', 80)],\n",
        "    'Fagaras': [('Sibiu', 99), ('Bucharest', 211)],\n",
        "    'Rimnicu Vilcea': [('Sibiu', 80), ('Craiova', 146), ('Pitesti', 97)],\n",
        "    'Craiova': [('Drobeta', 120), ('Rimnicu Vilcea', 146), ('Pitesti', 138)],\n",
        "    'Pitesti': [('Rimnicu Vilcea', 97), ('Craiova', 138), ('Bucharest', 101)],\n",
        "    'Bucharest': [('Fagaras', 211), ('Pitesti', 101)]\n",
        "}\n",
        "\n",
        "def uniform_cost_search(start, goal):\n",
        "    # Keep track of visited nodes and their distances from the start node\n",
        "    visited = {start: 0}\n",
        "    # Keep track of the nodes in the path from the start node to the current node\n",
        "    path = {start: [start]}\n",
        "    # Initialize the heap with the start node and its cost\n",
        "    heap = [(0, start)]\n",
        "    \n",
        "    while heap:\n",
        "        # Pop the node with the lowest cost from the heap\n",
        "        (cost, current) = heapq.heappop(heap)\n",
        "        \n",
        "        # If we have reached the goal node, return the path\n",
        "        if current == goal:\n",
        "            return path[current]\n",
        "        \n",
        "        # Loop through the neighboring nodes\n",
        "        for (neighbor, neighbor_cost) in graph[current]:\n",
        "            # Calculate the new cost to reach the neighboring node\n",
        "            new_cost = visited[current] + neighbor_cost\n",
        "            \n",
        "            # If the neighboring node hasn't been visited yet or the new cost is lower than the current cost\n",
        "            if neighbor not in visited or new_cost < visited[neighbor]:\n",
        "                # Update the visited dictionary and the path dictionary\n",
        "                visited[neighbor] = new_cost\n",
        "                path[neighbor] = path[current] + [neighbor]\n",
        "                # Add the neighboring node and its cost to the heap\n",
        "                heapq.heappush(heap, (new_cost, neighbor))\n",
        "                \n",
        "\n",
        "    return None\n",
        "\n",
        "\n",
        "start = 'Arad'\n",
        "goal = 'Bucharest'\n",
        "path = uniform_cost_search(start, goal)\n",
        "print(path)"
      ],
      "metadata": {
        "colab": {
          "base_uri": "https://localhost:8080/"
        },
        "id": "OkBW99p2Q5JX",
        "outputId": "232556a9-61d8-4ff3-db3b-4c12787d8ee9"
      },
      "execution_count": 10,
      "outputs": [
        {
          "output_type": "stream",
          "name": "stdout",
          "text": [
            "['Arad', 'Sibiu', 'Rimnicu Vilcea', 'Pitesti', 'Bucharest']\n"
          ]
        }
      ]
    }
  ]
}